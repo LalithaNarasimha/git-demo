{
 "metadata": {
  "language_info": {
   "codemirror_mode": {
    "name": "ipython",
    "version": 3
   },
   "file_extension": ".py",
   "mimetype": "text/x-python",
   "name": "python",
   "nbconvert_exporter": "python",
   "pygments_lexer": "ipython3",
   "version": "3.8.5-final"
  },
  "orig_nbformat": 2,
  "kernelspec": {
   "name": "python_defaultSpec_1604605379965",
   "display_name": "Python 3.8.5 64-bit"
  }
 },
 "nbformat": 4,
 "nbformat_minor": 2,
 "cells": [
  {
   "cell_type": "code",
   "execution_count": 3,
   "metadata": {},
   "outputs": [
    {
     "output_type": "execute_result",
     "data": {
      "text/plain": "False"
     },
     "metadata": {},
     "execution_count": 3
    }
   ],
   "source": [
    "# 5.2\n",
    "\n",
    "def mystery(sequence):\n",
    "    return sequence == sorted(sequence)\n",
    "\n",
    "seq = [2, 1, 5, 7]\n",
    "mystery(seq)"
   ]
  },
  {
   "cell_type": "code",
   "execution_count": 5,
   "metadata": {},
   "outputs": [
    {
     "output_type": "execute_result",
     "data": {
      "text/plain": "[(69, 1.7526), (77, 1.9558), (54, 1.3716)]"
     },
     "metadata": {},
     "execution_count": 5
    }
   ],
   "source": [
    "#5.3\n",
    "\n",
    "[(x,x * 0.0254) for x in [69,77,54]]"
   ]
  },
  {
   "cell_type": "code",
   "execution_count": 6,
   "metadata": {},
   "outputs": [
    {
     "output_type": "execute_result",
     "data": {
      "text/plain": "[(69, 1.7526), (77, 1.9558), (54, 1.3716)]"
     },
     "metadata": {},
     "execution_count": 6
    }
   ],
   "source": [
    "# 5.3\n",
    "list(map(lambda x: (x,x * 0.0254),[69,77,54]))"
   ]
  },
  {
   "cell_type": "code",
   "execution_count": 35,
   "metadata": {
    "tags": []
   },
   "outputs": [
    {
     "output_type": "stream",
     "name": "stdout",
     "text": "0          1          2 \n0     5      6      7  \n1     4      3      2  \n"
    }
   ],
   "source": [
    "#5.4\n",
    "\n",
    "a = [[5,6,7],\n",
    "     [4,3,2]]\n",
    "count = 0\n",
    "for k in range(3):\n",
    "   print(f'{k:>10}',end=' ')\n",
    "print()\n",
    "\n",
    "for row in a:\n",
    "    print(count,end=' ')\n",
    "    count = count + 1\n",
    "    for item in row:     \n",
    "        print(f'{item:>5} ',end=' ')\n",
    "        \n",
    "    print()"
   ]
  },
  {
   "cell_type": "code",
   "execution_count": 26,
   "metadata": {
    "tags": []
   },
   "outputs": [
    {
     "output_type": "stream",
     "name": "stdout",
     "text": "0     1     2 \na[0][0] = 5  a[0][1] = 6  a[0][2] = 7  \na[1][0] = 4  a[1][1] = 3  a[1][2] = 2  \n"
    }
   ],
   "source": [
    "#5.4\n",
    "a = [[5,6,7],\n",
    "     [4,3,2]]\n",
    "for k in range(3):\n",
    "   print(f'{k:>5}',end=' ')\n",
    "print()\n",
    "\n",
    "for i, row in enumerate(a):\n",
    "    for j, item in enumerate(row):\n",
    "        print(f'a[{i}][{j}] = {item} ', end=' ')\n",
    "    print()"
   ]
  },
  {
   "cell_type": "code",
   "execution_count": 16,
   "metadata": {},
   "outputs": [
    {
     "output_type": "execute_result",
     "data": {
      "text/plain": "'abcdefghijklm'"
     },
     "metadata": {},
     "execution_count": 16
    }
   ],
   "source": [
    "#5.5\n",
    "#create an alphabet conatining A to Z \n",
    "alphabet = \"abcdefghijklmnopqrtsuvwxyz\"\n",
    "# then perform slice operations to obtain \n",
    "length = len(alphabet)\n",
    "h_len = length//2\n",
    "#a. first half of the string using starting and ending indices\n",
    "alphabet[1:h_len - 1]\n",
    "#b. first half of the string using only the ending index\n",
    "alphabet[0:h_len]"
   ]
  },
  {
   "cell_type": "code",
   "execution_count": 17,
   "metadata": {},
   "outputs": [
    {
     "output_type": "execute_result",
     "data": {
      "text/plain": "'opqrtsuvwxy'"
     },
     "metadata": {},
     "execution_count": 17
    }
   ],
   "source": [
    "#c The second half of the string using starting and ending indices\n",
    "alphabet = \"abcdefghijklmnopqrtsuvwxyz\"\n",
    "length = len(alphabet)\n",
    "h_len = length//2\n",
    "\n",
    "alphabet[14:h_len*2 - 1]"
   ]
  },
  {
   "cell_type": "code",
   "execution_count": 18,
   "metadata": {},
   "outputs": [
    {
     "output_type": "execute_result",
     "data": {
      "text/plain": "'nopqrtsuvwxyz'"
     },
     "metadata": {},
     "execution_count": 18
    }
   ],
   "source": [
    "#c The second half of the string using only starting indices\n",
    "alphabet = \"abcdefghijklmnopqrtsuvwxyz\"\n",
    "length = len(alphabet)\n",
    "h_len = length//2\n",
    "\n",
    "alphabet[13:]\n"
   ]
  },
  {
   "cell_type": "code",
   "execution_count": 19,
   "metadata": {},
   "outputs": [
    {
     "output_type": "execute_result",
     "data": {
      "text/plain": "'acegikmoqtuwy'"
     },
     "metadata": {},
     "execution_count": 19
    }
   ],
   "source": [
    "#Every second letter in the string starting with 'a'\n",
    "alphabet = \"abcdefghijklmnopqrtsuvwxyz\"\n",
    "length = len(alphabet)\n",
    "\n",
    "alphabet[0:26:2]"
   ]
  },
  {
   "cell_type": "code",
   "execution_count": 20,
   "metadata": {},
   "outputs": [
    {
     "output_type": "execute_result",
     "data": {
      "text/plain": "'zyxwvustrqponmlkjihgfedcba'"
     },
     "metadata": {},
     "execution_count": 20
    }
   ],
   "source": [
    "#Entire string in reverse\n",
    "alphabet = \"abcdefghijklmnopqrtsuvwxyz\"\n",
    "\n",
    "alphabet[::-1]"
   ]
  },
  {
   "cell_type": "code",
   "execution_count": 21,
   "metadata": {},
   "outputs": [
    {
     "output_type": "execute_result",
     "data": {
      "text/plain": "'zwsqnkheb'"
     },
     "metadata": {},
     "execution_count": 21
    }
   ],
   "source": [
    "#Every third letter of the string in reverse starting with 'z'\n",
    "alphabet = \"abcdefghijklmnopqrtsuvwxyz\"\n",
    "\n",
    "alphabet[26:0:-3]\n"
   ]
  },
  {
   "cell_type": "code",
   "execution_count": 36,
   "metadata": {
    "tags": []
   },
   "outputs": [
    {
     "output_type": "stream",
     "name": "stdout",
     "text": "1984 Doug 22\n22 1984 Doug\nDoug 22 1984\n"
    }
   ],
   "source": [
    "# 5.6\n",
    "\n",
    "a = 'Doug'\n",
    "b = 22\n",
    "c = 1984\n",
    "\n",
    "def rotate(v1,v2,v3):\n",
    "    return (v3,v1,v2)\n",
    "\n",
    "for i in range(3):\n",
    "    a,b,c = rotate(a,b,c)\n",
    "    print(a,b,c)\n"
   ]
  },
  {
   "cell_type": "code",
   "execution_count": 38,
   "metadata": {
    "tags": []
   },
   "outputs": [
    {
     "output_type": "stream",
     "name": "stdout",
     "text": "[1, 2, 3, 'a', 'f', 'r', 'h', 4]\n"
    }
   ],
   "source": [
    "# Write a Python function that takes a list and returns a new list with unique elements of the first list\n",
    "#Sample List : [1,2,3,3,3,3,4,5]\n",
    "#Unique List : [1, 2, 3, 4, 5]\n",
    "\n",
    "def new_list(f_list):\n",
    "    new_list = []\n",
    "    for var in f_list:\n",
    "        if var not in new_list:\n",
    "            new_list.append(var)\n",
    "    \n",
    "    return new_list\n",
    "\n",
    "\n",
    "in_list = [1,2,3,'a','f','r','a','a','h',1,2,4,3,3,'h']\n",
    "unique_list = new_list(in_list)\n",
    "print(unique_list)"
   ]
  },
  {
   "cell_type": "code",
   "execution_count": 50,
   "metadata": {
    "tags": []
   },
   "outputs": [
    {
     "output_type": "stream",
     "name": "stdout",
     "text": "[2, 3, 5, 7, 11, 13, 17, 19, 23, 29, 31, 37, 41, 43, 47, 53, 59, 61, 67, 71, 73, 79, 83, 89, 97]\n"
    }
   ],
   "source": [
    "#5.8\n",
    "# Python program to print all primes smaller than or equal to \n",
    "# n using Sieve of Eratosthenes \n",
    "\n",
    "# Create a boolean array \"prime[0..n]\" and initialize \n",
    "# all entries it as true. A value in prime[i] will \n",
    "# finally be false if i is Not a prime, else true. \n",
    "def f_primes(n):\n",
    "    prime_list = []\n",
    "    primes = [True for i in range(n+1)]\n",
    "    # starting index 2 \n",
    "    p = 2\n",
    "    while(p*p <= n):\n",
    "        if primes[p] == True:\n",
    "            for i in range(p*2,n+1,p):\n",
    "                primes[i]= False\n",
    "\n",
    "        p = p + 1\n",
    "    \n",
    "    primes[0] = False\n",
    "    primes[1] = False\n",
    "\n",
    "    #print all prime numbers\n",
    "    for i in range(2,n+1):\n",
    "        if primes[i] == True:\n",
    "            prime_list.append(i)\n",
    "    \n",
    "    print(prime_list)\n",
    "\n",
    "       \n",
    "n = 100\n",
    "f_primes(n)\n"
   ]
  },
  {
   "cell_type": "code",
   "execution_count": 51,
   "metadata": {},
   "outputs": [
    {
     "output_type": "execute_result",
     "data": {
      "text/plain": "[20, 8, 4, 16, 12]"
     },
     "metadata": {},
     "execution_count": 51
    }
   ],
   "source": [
    "#5.23\n",
    "\n",
    "numbers = [10,3,7,1,9,4,2,8,5,6]\n",
    "list(map(lambda x : x*2,\n",
    "        filter(lambda x : x%2 == 0, numbers)))"
   ]
  },
  {
   "cell_type": "code",
   "execution_count": 52,
   "metadata": {},
   "outputs": [
    {
     "output_type": "execute_result",
     "data": {
      "text/plain": "[True, True, True, True, True]"
     },
     "metadata": {},
     "execution_count": 52
    }
   ],
   "source": [
    "\n",
    "numbers = [10,3,7,1,9,4,2,8,5,6]\n",
    "list(filter(lambda x : x*2,\n",
    "        map(lambda x : x%2 == 0, numbers)))"
   ]
  },
  {
   "cell_type": "code",
   "execution_count": 55,
   "metadata": {},
   "outputs": [
    {
     "output_type": "execute_result",
     "data": {
      "text/plain": "[('Harry', 'Potter'), ('Lilly', 'Potter'), ('James', 'Potter')]"
     },
     "metadata": {},
     "execution_count": 55
    }
   ],
   "source": [
    "#5.19\n",
    "\n",
    "def find_last_name(f_list):\n",
    "    return 'Potter' in f_list\n",
    "\n",
    "name_list = [('Harry','Potter'),('Lilly','Potter'),('James','Potter'),('Lalitha','Narasimha')]\n",
    "\n",
    "list(filter(find_last_name, name_list))"
   ]
  },
  {
   "cell_type": "code",
   "execution_count": 59,
   "metadata": {
    "tags": []
   },
   "outputs": [
    {
     "output_type": "stream",
     "name": "stdout",
     "text": "not a palindrome\n"
    }
   ],
   "source": [
    "#5.9\n",
    "\n",
    "def is_palindrome(f_arg):\n",
    "    if f_arg.isalpha():\n",
    "        f_str = f_arg[::-1]\n",
    "        if f_str.lower() == f_arg.lower():\n",
    "           return True\n",
    "        else:\n",
    "            return False\n",
    "\n",
    "in_str = 'rradar r'\n",
    "if is_palindrome(in_str) == True:\n",
    "    print('is a palindrome')\n",
    "else:\n",
    "    print('not a palindrome')\n",
    "\n",
    "\n",
    "\n"
   ]
  },
  {
   "cell_type": "code",
   "execution_count": 60,
   "metadata": {
    "tags": []
   },
   "outputs": [
    {
     "output_type": "stream",
     "name": "stdout",
     "text": "['abcd', 'abdc', 'acbd', 'acdb', 'adbc', 'adcb', 'bacd', 'badc', 'bcad', 'bcda', 'bdac', 'bdca', 'cabd', 'cadb', 'cbad', 'cbda', 'cdab', 'cdba', 'dabc', 'dacb', 'dbac', 'dbca', 'dcab', 'dcba']\n"
    }
   ],
   "source": [
    "#5.10\n",
    "def anagram(word):\n",
    "    if len(word) <= 1:\n",
    "        return [word]\n",
    "    elif len(word) == 2:\n",
    "        return [word, word[1] + word[0]]\n",
    "    else:\n",
    "        length = len(word)\n",
    "        result = []\n",
    "        for index in range(length):\n",
    "            head = word[index]\n",
    "            rest = word[ : index] + word[index + 1 : ]\n",
    "\n",
    " # if the inptu is 'abc'\n",
    "# if the head is 'a', the temp 'bc', 'cb'\n",
    "# if the head is 'b', the temp 'ac', 'ca'\n",
    "            temp = anagram(rest)\n",
    "            for temp_word in temp:\n",
    "                new_word = head + temp_word\n",
    "                result.append(new_word)\n",
    "\n",
    "        return result\n",
    "print(anagram('abcd'))\n"
   ]
  },
  {
   "cell_type": "code",
   "execution_count": 65,
   "metadata": {
    "tags": []
   },
   "outputs": [
    {
     "output_type": "stream",
     "name": "stdout",
     "text": "[(83, 'Electric sander', 7, 57.98), (77, 'Hammer', 76, 11.99), (39, 'Jigsaw', 3, 79.5), (24, 'Power saw', 18, 99.99), (7, 'Sledge hammer', 11, 21.5)]\n"
    }
   ],
   "source": [
    "#5.15\n",
    "#a -- Sorted function with key argument to sort the tuples by part description\n",
    "import operator\n",
    "\n",
    "hardware_list = [(83,'Electric sander',7, 57.98),(24,'Power saw',18,99.99),(7,'Sledge hammer',11,21.50),(77,'Hammer',76,11.99),(39,'Jigsaw',3,79.50)]\n",
    "\n",
    "new_list = sorted(hardware_list, key = operator.itemgetter(1))\n",
    "print(new_list)\n"
   ]
  },
  {
   "cell_type": "code",
   "execution_count": 67,
   "metadata": {
    "tags": []
   },
   "outputs": [
    {
     "output_type": "stream",
     "name": "stdout",
     "text": "[(77, 'Hammer', 76, 11.99), (7, 'Sledge hammer', 11, 21.5), (83, 'Electric sander', 7, 57.98), (39, 'Jigsaw', 3, 79.5), (24, 'Power saw', 18, 99.99)]\n"
    }
   ],
   "source": [
    "#5.15\n",
    "#b -- Sorted function with key argument to sort the tuples by price\n",
    "\n",
    "import operator\n",
    "\n",
    "hardware_list = [(83,'Electric sander',7, 57.98),(24,'Power saw',18,99.99),(7,'Sledge hammer',11,21.50),(77,'Hammer',76,11.99),(39,'Jigsaw',3,79.50)]\n",
    "\n",
    "new_list = sorted(hardware_list, key = operator.itemgetter(3))\n",
    "print(new_list)"
   ]
  },
  {
   "cell_type": "code",
   "execution_count": 75,
   "metadata": {},
   "outputs": [
    {
     "output_type": "error",
     "ename": "SyntaxError",
     "evalue": "positional argument follows keyword argument (<ipython-input-75-aaf40987ab0b>, line 9)",
     "traceback": [
      "\u001b[0;36m  File \u001b[0;32m\"<ipython-input-75-aaf40987ab0b>\"\u001b[0;36m, line \u001b[0;32m9\u001b[0m\n\u001b[0;31m    hardware_list.sort(key = map(lambda x : x[1],x[2]),hardware_list)\u001b[0m\n\u001b[0m                                                       ^\u001b[0m\n\u001b[0;31mSyntaxError\u001b[0m\u001b[0;31m:\u001b[0m positional argument follows keyword argument\n"
     ]
    }
   ],
   "source": [
    "#5.15\n",
    "#c -- Map each invoice tuple to a tuple containing the part description and quantity and sort the results by quantity\n",
    "import operator\n",
    "#def get_key():\n",
    "#    return item[1]\n",
    "\n",
    "hardware_list = [(83,'Electric sander',7, 57.98),(24,'Power saw',18,99.99),(7,'Sledge hammer',11,21.50),(77,'Hammer',76,11.99),(39,'Jigsaw',3,79.50)]\n",
    "\n",
    "list(map(lambda : ))\n",
    "\n"
   ]
  },
  {
   "cell_type": "code",
   "execution_count": 69,
   "metadata": {},
   "outputs": [
    {
     "output_type": "execute_result",
     "data": {
      "text/plain": "[[1, 43], [2, 3], [3, 34], [6, 7], [24, 64]]"
     },
     "metadata": {},
     "execution_count": 69
    }
   ],
   "source": [
    "def getKey(item):\n",
    "     return item[0]\n",
    "l = [[2, 3], [6, 7], [3, 34], [24, 64], [1, 43]]\n",
    "sorted(l, key=getKey)"
   ]
  },
  {
   "cell_type": "code",
   "execution_count": null,
   "metadata": {},
   "outputs": [],
   "source": []
  }
 ]
}